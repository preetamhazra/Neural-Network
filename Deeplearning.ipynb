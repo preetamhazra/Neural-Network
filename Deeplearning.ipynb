{
 "cells": [
  {
   "cell_type": "code",
   "execution_count": 96,
   "id": "700973e0-9ede-4b4b-91ea-4bf249fe54b3",
   "metadata": {},
   "outputs": [],
   "source": [
    "import tensorflow as tf\n",
    "import keras\n",
    "import numpy as np\n",
    "from sklearn.model_selection import train_test_split\n",
    "from sklearn.linear_model import LogisticRegression\n",
    "from sklearn.metrics import mean_squared_error as skmse\n",
    "from sklearn.metrics import r2_score\n"
    "from sklearn.preprocessing import MinMaxScaler, StandardScaler, RobustScaler\n",
    "import matplotlib.pyplot as plt\n",
    "import pandas as pd"
   ]
  },
  {
   "cell_type": "code",
   "execution_count": 97,
   "id": "8c97d1e8-802d-4fa6-8f12-9f3cb19f7ebd",
   "metadata": {},
   "outputs": [],
   "source": [
    "a=range(0,100)\n",
    "x=np.array(a)    #input parameter\n",
    "#print(np.array(x))\n",
    "x=x.reshape(-1,1)"
   ]
  },
  {
   "cell_type": "code",
   "execution_count": 98,
   "id": "f80bfa43-3e0a-418b-8acf-499c3b9703ec",
   "metadata": {},
   "outputs": [],
   "source": [
    "y=10*x+5    #output parameter\n",
    "#print(y)"
   ]
  },
  {
   "cell_type": "code",
   "execution_count": 205,
   "id": "2dfbdc9f-2a13-4e11-a598-26abdbf653f6",
   "metadata": {},
   "outputs": [],
   "source": [
    "#Train/test division\n",
    "xtrain, xtest, ytrain, ytest=train_test_split(x,y,test_size=0.2, shuffle=True, random_state=42)"
   ]
  },
  {
   "cell_type": "code",
   "execution_count": 206,
   "id": "6dbbe16d-393f-4de6-b24c-e06549e5dc66",
   "metadata": {},
   "outputs": [],
   "source": [
    "#Layer description\n",
    "model=tf.keras.models.Sequential([\n",
    "    tf.keras.layers.Input(shape=(1,)),\n",
    "    tf.keras.layers.Dense(8, activation='relu'),\n",
    "    tf.keras.layers.Dense(4, activation='relu'),\n",
    "    tf.keras.layers.Dense(1)\n",
    "])"
   ]
  },
  {
   "cell_type": "code",
   "execution_count": 207,
   "id": "18a1fc85-3deb-45cb-930c-f56843297893",
   "metadata": {},
   "outputs": [],
   "source": [
    "model.compile(optimizer='adam', loss='mse')"
   ]
  },
  {
   "cell_type": "code",
   "execution_count": 208,
   "id": "ff6500fb-29dc-4cb0-b907-85c0660157ab",
   "metadata": {},
   "outputs": [
    {
     "data": {
      "text/plain": [
       "<keras.src.callbacks.history.History at 0x2a1d7a333d0>"
      ]
     },
     "execution_count": 208,
     "metadata": {},
     "output_type": "execute_result"
    }
   ],
   "source": [
    "model.fit(xtrain, ytrain, epochs=150, batch_size=10, verbose=0)"
   ]
  },
  {
   "cell_type": "code",
   "execution_count": 209,
   "id": "b1d29da9-1182-486b-9551-b9d049421956",
   "metadata": {},
   "outputs": [
    {
     "name": "stdout",
     "output_type": "stream",
     "text": [
      "\u001b[1m1/1\u001b[0m \u001b[32m━━━━━━━━━━━━━━━━━━━━\u001b[0m\u001b[37m\u001b[0m \u001b[1m0s\u001b[0m 36ms/step\n"
     ]
    }
   ],
   "source": [
    "# Predict\n",
    "ypred = model.predict(xtest)"
   ]
  },
  {
   "cell_type": "code",
   "execution_count": 210,
   "id": "ce471f6a-5f99-4765-bf5b-868391900b1f",
   "metadata": {},
   "outputs": [
    {
     "data": {
      "image/png": "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",
      "text/plain": [
       "<Figure size 640x480 with 1 Axes>"
      ]
     },
     "metadata": {},
     "output_type": "display_data"
    }
   ],
   "source": [
    "plt.scatter(xtest,ytest)\n",
    "plt.scatter(xtest,ypred, marker='*')\n",
    "plt.show()\n"
    "re = r2_score(ytest, ypred)\n
    "print("R2 Squared Error:", re)"
   ]
  },
  {
   "cell_type": "code",
   "execution_count": null,
   "id": "b0412902-101e-4034-9d72-b8457f27f585",
   "metadata": {},
   "outputs": [],
   "source": []
  }
 ],
 "metadata": {
  "kernelspec": {
   "display_name": "Python 3 (ipykernel)",
   "language": "python",
   "name": "python3"
  },
  "language_info": {
   "codemirror_mode": {
    "name": "ipython",
    "version": 3
   },
   "file_extension": ".py",
   "mimetype": "text/x-python",
   "name": "python",
   "nbconvert_exporter": "python",
   "pygments_lexer": "ipython3",
   "version": "3.9.23"
  }
 },
 "nbformat": 4,
 "nbformat_minor": 5
}
